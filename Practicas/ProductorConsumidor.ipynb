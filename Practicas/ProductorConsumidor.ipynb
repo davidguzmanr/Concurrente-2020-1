{
 "cells": [
  {
   "cell_type": "code",
   "execution_count": 1,
   "metadata": {},
   "outputs": [],
   "source": [
    "import time\n",
    "import multiprocessing"
   ]
  },
  {
   "cell_type": "code",
   "execution_count": 53,
   "metadata": {},
   "outputs": [],
   "source": [
    "def produceItem():\n",
    "    print('Item creado')\n",
    "    \n",
    "def consumeItem():\n",
    "    print('Item consumido')\n",
    "    \n",
    "def putItemIntoBuffer(Buffer, itemCount):\n",
    "    print('Item agregado al buffer. ItemCount: ', itemCount.value)\n",
    "\n",
    "def removeItemFromBuffer(Buffer, itemCount):\n",
    "    print('Item removido del buffer. ItemCount: ', itemCount.value)    \n",
    "    \n",
    "def wakeup(funcion, itemCount, Buffer, BUFFER_SIZE):\n",
    "    funcion(itemCount, Buffer, BUFFER_SIZE)\n",
    "    \n",
    "def sleep():\n",
    "    time.sleep(0.01)"
   ]
  },
  {
   "cell_type": "code",
   "execution_count": 57,
   "metadata": {},
   "outputs": [],
   "source": [
    "def producer(itemCount, Buffer, BUFFER_SIZE, flag_p):\n",
    "    \n",
    "    while (True): \n",
    "        \n",
    "        # Mientras flag_p = 0 el productor duerme, cuando el consumidor lo mande a despertar\n",
    "        # entonces flag_p = 1.\n",
    "        while(flag_p == 0):\n",
    "            time.sleep(0.001)\n",
    "        \n",
    "        #item = produceItem()\n",
    "\n",
    "        itemCount.value = itemCount.value + 1\n",
    "        putItemIntoBuffer(Buffer, itemCount)\n",
    "        \n",
    "        # Si el buffer está lleno entonces\n",
    "        if (itemCount.value == BUFFER_SIZE.value): \n",
    "            flag_p = 0\n",
    "\n",
    "        if (itemCount == 1):\n",
    "            flag_c = 1"
   ]
  },
  {
   "cell_type": "code",
   "execution_count": 58,
   "metadata": {},
   "outputs": [],
   "source": [
    "def consumer(itemCount, Buffer, BUFFER_SIZE, flag_c):\n",
    "    \n",
    "    while (True): \n",
    "        \n",
    "        if (itemCount.value == 0): \n",
    "            flag_c = 0\n",
    "\n",
    "        while (flag_c == 0):\n",
    "            time.sleep(0.001)\n",
    "            \n",
    "        itemCount.value = itemCount.value - 1\n",
    "        item = removeItemFromBuffer(Buffer, itemCount)\n",
    "        \n",
    "        if (itemCount.value == BUFFER_SIZE.value - 1): \n",
    "            flag_p = 1\n",
    "            \n",
    "        #consumeItem()"
   ]
  },
  {
   "cell_type": "code",
   "execution_count": null,
   "metadata": {},
   "outputs": [
    {
     "name": "stdout",
     "output_type": "stream",
     "text": [
      "Item agregado al buffer. ItemCount:  2\n",
      "Item agregado al buffer. ItemCount:  2\n",
      "Item removido del buffer. ItemCount:  1\n",
      "Item agregado al buffer. ItemCount:  2\n",
      "Item removido del buffer. ItemCount:  1\n",
      "Item agregado al buffer. ItemCount:  3\n",
      "Item removido del buffer. ItemCount:  2\n",
      "Item removido del buffer. ItemCount:  1\n",
      "Item agregado al buffer. ItemCount:  2\n",
      "Item agregado al buffer. ItemCount:  3\n",
      "Item agregado al buffer. ItemCount:  4\n",
      "Item agregado al buffer. ItemCount:  4\n",
      "Item removido del buffer. ItemCount:  3\n",
      "Item agregado al buffer. ItemCount:  5\n",
      "Item agregado al buffer. ItemCount:  5\n",
      "Item removido del buffer. ItemCount:  4\n",
      "Item removido del buffer. ItemCount:  5\n",
      "Item agregado al buffer. ItemCount:  6\n",
      "Item removido del buffer. ItemCount:  5\n",
      "Item agregado al buffer. ItemCount:  6\n",
      "Item removido del buffer. ItemCount:  5\n",
      "Item agregado al buffer. ItemCount:  6\n",
      "Item agregado al buffer. ItemCount:  5\n",
      "Item removido del buffer. ItemCount:  4\n",
      "Item agregado al buffer. ItemCount:  6\n",
      "Item removido del buffer. ItemCount:  5\n",
      "Item agregado al buffer. ItemCount:  6\n",
      "Item agregado al buffer. ItemCount:  7\n",
      "Item removido del buffer. ItemCount:  6\n",
      "Item agregado al buffer. ItemCount:  6\n",
      "Item removido del buffer. ItemCount:  5\n",
      "Item removido del buffer. ItemCount:  5\n",
      "Item removido del buffer. ItemCount:  4\n",
      "Item removido del buffer. ItemCount:  3\n",
      "Item agregado al buffer. ItemCount:  4\n",
      "Item removido del buffer. ItemCount:  3\n",
      "Item agregado al buffer. ItemCount:  4\n",
      "Item agregado al buffer. ItemCount:  5\n",
      "Item removido del buffer. ItemCount:  4\n",
      "Item removido del buffer. ItemCount:  3\n",
      "Item agregado al buffer. ItemCount:  4\n",
      "Item removido del buffer. ItemCount:  3\n",
      "Item removido del buffer. ItemCount:  2\n",
      "Item removido del buffer. ItemCount:  2\n",
      "Item removido del buffer. ItemCount:  1\n",
      "Item agregado al buffer. ItemCount:  3\n",
      "Item removido del buffer. ItemCount:  0\n",
      "Item agregado al buffer. ItemCount:  1\n",
      "Item agregado al buffer. ItemCount:  2\n",
      "Item agregado al buffer. ItemCount:  3\n",
      "Item agregado al buffer. ItemCount:  4\n",
      "Item agregado al buffer. ItemCount:  5\n",
      "Item agregado al buffer. ItemCount:  6\n",
      "Item agregado al buffer. ItemCount:  7\n",
      "Item agregado al buffer. ItemCount:  8\n",
      "Item agregado al buffer. ItemCount:  9\n",
      "Item agregado al buffer. ItemCount:  10\n"
     ]
    }
   ],
   "source": [
    "itemCount = multiprocessing.Value('i', 1)\n",
    "BUFFER_SIZE = multiprocessing.Value('i', 10)\n",
    "Buffer = multiprocessing.Array('i', 10)\n",
    "flag_p = multiprocessing.Value('i', 1)\n",
    "flag_c = multiprocessing.Value('i', 1)\n",
    "\n",
    "p1 = multiprocessing.Process(target=producer, args=(itemCount, Buffer, BUFFER_SIZE, flag_p))\n",
    "p2 = multiprocessing.Process(target=consumer, args=(itemCount, Buffer, BUFFER_SIZE, flag_c))\n",
    "\n",
    "p1.start()\n",
    "p2.start()\n",
    "\n",
    "p1.join()\n",
    "p2.join()"
   ]
  },
  {
   "cell_type": "markdown",
   "metadata": {},
   "source": [
    "En lo anterior se llega a un deadlock, pues ambos procesos se quedan esperando a que el otro lo despierte. "
   ]
  },
  {
   "cell_type": "code",
   "execution_count": null,
   "metadata": {},
   "outputs": [],
   "source": []
  }
 ],
 "metadata": {
  "kernelspec": {
   "display_name": "Python 3",
   "language": "python",
   "name": "python3"
  },
  "language_info": {
   "codemirror_mode": {
    "name": "ipython",
    "version": 3
   },
   "file_extension": ".py",
   "mimetype": "text/x-python",
   "name": "python",
   "nbconvert_exporter": "python",
   "pygments_lexer": "ipython3",
   "version": "3.6.5"
  }
 },
 "nbformat": 4,
 "nbformat_minor": 2
}
