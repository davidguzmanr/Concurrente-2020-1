{
 "cells": [
  {
   "cell_type": "code",
   "execution_count": 1,
   "metadata": {},
   "outputs": [],
   "source": [
    "import multiprocessing \n",
    "import time"
   ]
  },
  {
   "cell_type": "markdown",
   "metadata": {},
   "source": [
    "### Por turnos\n",
    "\n",
    "Lo siguiente le asigna un turno a cada filósofo y mientras no sea su turno espera, cuando es su turno come. El inconveniente de ésto es que si hay muchos filósofos éstos se pueden morir de hambre al esperar tanto."
   ]
  },
  {
   "cell_type": "code",
   "execution_count": 2,
   "metadata": {},
   "outputs": [],
   "source": [
    "def filosofo(i, turno):\n",
    "   \n",
    "    while (i != turno.value):\n",
    "        # Mientras no sea su turno espera\n",
    "        time.sleep(1)\n",
    "        \n",
    "    print(\"El filósofo \" +  str(i) +  \" está comiendo\")\n",
    "    \n",
    "    # Se tarda 3 s en comer\n",
    "    time.sleep(3)\n",
    "    \n",
    "    print(\"El filósofo \" +  str(i) +  \" terminó de comer \\n\")\n",
    "    \n",
    "    turno.value = turno.value%5 + 1"
   ]
  },
  {
   "cell_type": "code",
   "execution_count": null,
   "metadata": {},
   "outputs": [
    {
     "name": "stdout",
     "output_type": "stream",
     "text": [
      "El filósofo 1 está comiendo\n",
      "El filósofo 1 terminó de comer \n",
      "\n",
      "El filósofo 2 está comiendo\n",
      "El filósofo 2 terminó de comer \n",
      "\n",
      "El filósofo 3 está comiendo\n",
      "El filósofo 3 terminó de comer \n",
      "\n",
      "El filósofo 4 está comiendo\n",
      "El filósofo 4 terminó de comer \n",
      "\n",
      "El filósofo 5 está comiendo\n"
     ]
    }
   ],
   "source": [
    "while(True):\n",
    "    turno = multiprocessing.Value('i', 1)\n",
    "\n",
    "    f1 = multiprocessing.Process(target=filosofo, args=(1,turno))\n",
    "    f2 = multiprocessing.Process(target=filosofo, args=(2,turno))\n",
    "    f3 = multiprocessing.Process(target=filosofo, args=(3,turno))\n",
    "    f4 = multiprocessing.Process(target=filosofo, args=(4,turno))\n",
    "    f5 = multiprocessing.Process(target=filosofo, args=(5,turno))\n",
    "\n",
    "    f1.start()\n",
    "    f2.start()\n",
    "    f3.start()\n",
    "    f4.start()\n",
    "    f5.start()\n",
    "\n",
    "    f1.join()\n",
    "    f2.join()\n",
    "    f3.join()\n",
    "    f4.join()\n",
    "    f5.join()"
   ]
  },
  {
   "cell_type": "code",
   "execution_count": null,
   "metadata": {},
   "outputs": [],
   "source": []
  }
 ],
 "metadata": {
  "kernelspec": {
   "display_name": "Python 3",
   "language": "python",
   "name": "python3"
  },
  "language_info": {
   "codemirror_mode": {
    "name": "ipython",
    "version": 3
   },
   "file_extension": ".py",
   "mimetype": "text/x-python",
   "name": "python",
   "nbconvert_exporter": "python",
   "pygments_lexer": "ipython3",
   "version": "3.6.5"
  }
 },
 "nbformat": 4,
 "nbformat_minor": 2
}
