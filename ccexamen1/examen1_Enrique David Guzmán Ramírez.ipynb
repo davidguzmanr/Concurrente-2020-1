{
 "cells": [
  {
   "cell_type": "code",
   "execution_count": 1,
   "metadata": {},
   "outputs": [],
   "source": [
    "import multiprocessing\n",
    "import time"
   ]
  },
  {
   "cell_type": "markdown",
   "metadata": {},
   "source": [
    "## Programa 1\n",
    "\n",
    "Realiza el **programa1** que instance 3 procesos. Cada uno de los procesos hijos recibirá un valor **n** y un caracter **s** enviados por el proceso padre, los procesos escribirán en la salida estándar $n$ veces el caracter $s$."
   ]
  },
  {
   "cell_type": "code",
   "execution_count": 2,
   "metadata": {},
   "outputs": [],
   "source": [
    "def problema1(s, n):\n",
    "    \"\"\"\n",
    "    Esta función imprime el caracter s n veces.\n",
    "    \"\"\"\n",
    "    cadena = s*n\n",
    "    print(cadena, end = '')"
   ]
  },
  {
   "cell_type": "code",
   "execution_count": 3,
   "metadata": {},
   "outputs": [],
   "source": [
    "def programa1(cadenas, ns):\n",
    "    \n",
    "    \"\"\"\n",
    "    programa1 crea 3 procesos (p1,p2,p3), cada uno de los procesos recibe un caracter s y valor n. \n",
    "    Cada uno de los procesos imprime n veces el caracter s que se le pasa. Cadenas es un array de 3 entradas\n",
    "    con los 3 caracteres, y ns es un array con 3 entradas con 3 números.\n",
    "    \n",
    "    \"\"\"\n",
    "    \n",
    "    s1, s2, s3 = cadenas[0], cadenas[1], cadenas[2]\n",
    "    n1, n2, n3 = ns[0], ns[1], ns[2]\n",
    "       \n",
    "    p1 = multiprocessing.Process(target=problema1, args=(s1, n1))\n",
    "    p2 = multiprocessing.Process(target=problema1, args=(s2, n2))\n",
    "    p3 = multiprocessing.Process(target=problema1, args=(s3, n3))\n",
    "\n",
    "    p1.start()\n",
    "    p2.start()\n",
    "    p3.start()\n",
    "\n",
    "    p1.join()\n",
    "    p2.join()\n",
    "    p3.join()"
   ]
  },
  {
   "cell_type": "code",
   "execution_count": 4,
   "metadata": {},
   "outputs": [
    {
     "name": "stdout",
     "output_type": "stream",
     "text": [
      "aabbbbbcccccccccc"
     ]
    }
   ],
   "source": [
    "cadenas = ['a', 'b', 'c']\n",
    "ns = [2,5,10]\n",
    "\n",
    "programa1(cadenas, ns)"
   ]
  },
  {
   "cell_type": "markdown",
   "metadata": {},
   "source": [
    "Al correr varias veces el programa nos damos cuenta que no es determinista, pero de eso se trata el problema2."
   ]
  },
  {
   "cell_type": "code",
   "execution_count": 5,
   "metadata": {},
   "outputs": [
    {
     "name": "stdout",
     "output_type": "stream",
     "text": [
      "aabbbbbcccccccccc\n",
      "\n",
      "aabbbbbcccccccccc\n",
      "\n",
      "aabbbbbcccccccccc\n",
      "\n",
      "bbbbbaacccccccccc\n",
      "\n",
      "aabbbbbcccccccccc\n",
      "\n",
      "aabbbbbcccccccccc\n",
      "\n",
      "aabbbbbcccccccccc\n",
      "\n",
      "bbbbbaacccccccccc\n",
      "\n",
      "aabbbbbcccccccccc\n",
      "\n",
      "aabbbbbcccccccccc\n",
      "\n"
     ]
    }
   ],
   "source": [
    "for i in range(10):\n",
    "    programa1(cadenas, ns)\n",
    "    print('\\n')"
   ]
  },
  {
   "cell_type": "markdown",
   "metadata": {},
   "source": [
    "## Programa 2\n",
    "\n",
    "Refactoriza (reescribe) el programa anterior y elabora el **programa2** donde construyas un mecanismo de sincronización el cual permita escribir en orden todos los caracteres de cada proceso. Es decir, que se ontenga la secuencia $s_{1} \\ldots s_{1} s_{2} \\ldots s_{2} s_{3} \\ldots s_{3}$, donde cada $s_{i}$ para cada $i=1,2,3$ es la secuencia de caracteres del proceso$_{i}$ con longitud $n_{i}$."
   ]
  },
  {
   "cell_type": "markdown",
   "metadata": {},
   "source": [
    "#### Con turnos"
   ]
  },
  {
   "cell_type": "code",
   "execution_count": 36,
   "metadata": {},
   "outputs": [],
   "source": [
    "def problema2(s, n, i, turno):\n",
    "    \n",
    "    \"\"\"\n",
    "    Esta función imprime el caracter s n veces, i es el turno que se le asigna al proceso y \n",
    "    turno es el turno actual.  \n",
    "    \"\"\"\n",
    "           \n",
    "    while (i != turno.value):\n",
    "        time.sleep(0.01)\n",
    "    \n",
    "    cadena = s*n\n",
    "    \n",
    "    print(n*s, end = '')\n",
    "    \n",
    "    time.sleep(0.01)\n",
    "    \n",
    "    turno.value = turno.value + 1"
   ]
  },
  {
   "cell_type": "code",
   "execution_count": 37,
   "metadata": {},
   "outputs": [],
   "source": [
    "def programa2(cadenas, ns):\n",
    "    \n",
    "    \"\"\"\n",
    "    programa2 crea 3 procesos (p1,p2,p3), cada proceso tiene un turno asignado, la variable\n",
    "    turno es una variable compartida que nos ayuda a ordenar los procesos.\n",
    "    \n",
    "    >>> programa2(['a', 'b', 'c'], [2,3,4])\n",
    "    aabbbcccc    \n",
    "    \n",
    "    \"\"\"\n",
    "    \n",
    "    s1, s2, s3 = cadenas[0], cadenas[1], cadenas[2]\n",
    "    n1, n2, n3 = ns[0], ns[1], ns[2]\n",
    "    \n",
    "    turno = multiprocessing.Value('i', 1)\n",
    "          \n",
    "    p1 = multiprocessing.Process(target=problema2, args=(s1, n1, 1, turno))\n",
    "    p2 = multiprocessing.Process(target=problema2, args=(s2, n2, 2, turno))\n",
    "    p3 = multiprocessing.Process(target=problema2, args=(s3, n3, 3, turno))\n",
    "\n",
    "    p1.start()\n",
    "    p2.start()\n",
    "    p3.start()\n",
    "        \n",
    "    p1.join()\n",
    "    p2.join()\n",
    "    p3.join()        "
   ]
  },
  {
   "cell_type": "code",
   "execution_count": 38,
   "metadata": {},
   "outputs": [],
   "source": [
    "cadenas = ['a', 'b', 'c']\n",
    "ns = [2,3,4]"
   ]
  },
  {
   "cell_type": "code",
   "execution_count": 39,
   "metadata": {},
   "outputs": [
    {
     "name": "stdout",
     "output_type": "stream",
     "text": [
      "aabbbcccc"
     ]
    }
   ],
   "source": [
    "programa2(cadenas, ns)"
   ]
  },
  {
   "cell_type": "markdown",
   "metadata": {},
   "source": [
    "Aquí ya vemos que siempre nos devuelve la misma cadena."
   ]
  },
  {
   "cell_type": "code",
   "execution_count": 43,
   "metadata": {},
   "outputs": [
    {
     "name": "stdout",
     "output_type": "stream",
     "text": [
      "aabbbcccc\n",
      "\n",
      "aabbbcccc\n",
      "\n",
      "aabbbcccc\n",
      "\n",
      "aabbbcccc\n",
      "\n",
      "aabbbcccc\n",
      "\n",
      "aabbbcccc\n",
      "\n",
      "aabbbcccc\n",
      "\n",
      "aabbbcccc\n",
      "\n",
      "aabbbcccc\n",
      "\n",
      "aabbbcccc\n",
      "\n"
     ]
    }
   ],
   "source": [
    "for i in range(10):\n",
    "    programa2(cadenas, ns)\n",
    "    print('\\n')"
   ]
  },
  {
   "cell_type": "code",
   "execution_count": null,
   "metadata": {},
   "outputs": [],
   "source": []
  }
 ],
 "metadata": {
  "kernelspec": {
   "display_name": "Python 3",
   "language": "python",
   "name": "python3"
  },
  "language_info": {
   "codemirror_mode": {
    "name": "ipython",
    "version": 3
   },
   "file_extension": ".py",
   "mimetype": "text/x-python",
   "name": "python",
   "nbconvert_exporter": "python",
   "pygments_lexer": "ipython3",
   "version": "3.6.5"
  }
 },
 "nbformat": 4,
 "nbformat_minor": 2
}
